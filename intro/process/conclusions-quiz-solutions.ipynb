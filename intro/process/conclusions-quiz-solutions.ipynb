{
 "cells": [
  {
   "cell_type": "markdown",
   "metadata": {},
   "source": [
    "# Drawing Conclusions Quiz\n",
    "Use the space below to explore `store_data.csv` to answer the quiz questions below."
   ]
  },
  {
   "cell_type": "code",
   "execution_count": 5,
   "metadata": {},
   "outputs": [
    {
     "data": {
      "text/html": [
       "<div>\n",
       "<style scoped>\n",
       "    .dataframe tbody tr th:only-of-type {\n",
       "        vertical-align: middle;\n",
       "    }\n",
       "\n",
       "    .dataframe tbody tr th {\n",
       "        vertical-align: top;\n",
       "    }\n",
       "\n",
       "    .dataframe thead th {\n",
       "        text-align: right;\n",
       "    }\n",
       "</style>\n",
       "<table border=\"1\" class=\"dataframe\">\n",
       "  <thead>\n",
       "    <tr style=\"text-align: right;\">\n",
       "      <th></th>\n",
       "      <th>week</th>\n",
       "      <th>storeA</th>\n",
       "      <th>storeB</th>\n",
       "      <th>storeC</th>\n",
       "      <th>storeD</th>\n",
       "      <th>storeE</th>\n",
       "    </tr>\n",
       "  </thead>\n",
       "  <tbody>\n",
       "    <tr>\n",
       "      <td>0</td>\n",
       "      <td>2014-05-04</td>\n",
       "      <td>2643</td>\n",
       "      <td>8257</td>\n",
       "      <td>3893</td>\n",
       "      <td>6231</td>\n",
       "      <td>1294</td>\n",
       "    </tr>\n",
       "    <tr>\n",
       "      <td>1</td>\n",
       "      <td>2014-05-11</td>\n",
       "      <td>6444</td>\n",
       "      <td>5736</td>\n",
       "      <td>5634</td>\n",
       "      <td>7092</td>\n",
       "      <td>2907</td>\n",
       "    </tr>\n",
       "    <tr>\n",
       "      <td>2</td>\n",
       "      <td>2014-05-18</td>\n",
       "      <td>9646</td>\n",
       "      <td>2552</td>\n",
       "      <td>4253</td>\n",
       "      <td>5447</td>\n",
       "      <td>4736</td>\n",
       "    </tr>\n",
       "    <tr>\n",
       "      <td>3</td>\n",
       "      <td>2014-05-25</td>\n",
       "      <td>5960</td>\n",
       "      <td>10740</td>\n",
       "      <td>8264</td>\n",
       "      <td>6063</td>\n",
       "      <td>949</td>\n",
       "    </tr>\n",
       "    <tr>\n",
       "      <td>4</td>\n",
       "      <td>2014-06-01</td>\n",
       "      <td>7412</td>\n",
       "      <td>7374</td>\n",
       "      <td>3208</td>\n",
       "      <td>3985</td>\n",
       "      <td>3023</td>\n",
       "    </tr>\n",
       "  </tbody>\n",
       "</table>\n",
       "</div>"
      ],
      "text/plain": [
       "         week  storeA  storeB  storeC  storeD  storeE\n",
       "0  2014-05-04    2643    8257    3893    6231    1294\n",
       "1  2014-05-11    6444    5736    5634    7092    2907\n",
       "2  2014-05-18    9646    2552    4253    5447    4736\n",
       "3  2014-05-25    5960   10740    8264    6063     949\n",
       "4  2014-06-01    7412    7374    3208    3985    3023"
      ]
     },
     "execution_count": 5,
     "metadata": {},
     "output_type": "execute_result"
    }
   ],
   "source": [
    "# imports and load data\n",
    "import pandas as pd\n",
    "%matplotlib inline\n",
    "\n",
    "df = pd.read_csv('store_data.csv')\n",
    "df.head()"
   ]
  },
  {
   "cell_type": "code",
   "execution_count": 6,
   "metadata": {},
   "outputs": [
    {
     "data": {
      "image/png": "[encoded data removed]",
      "text/plain": [
       "<Figure size 576x576 with 6 Axes>"
      ]
     },
     "metadata": {
      "needs_background": "light"
     },
     "output_type": "display_data"
    }
   ],
   "source": [
    "# explore data\n",
    "df.hist(figsize=(8, 8));"
   ]
  },
  {
   "cell_type": "code",
   "execution_count": 3,
   "metadata": {},
   "outputs": [
    {
     "data": {
      "text/html": [
       "<div>\n",
       "<style>\n",
       "    .dataframe thead tr:only-child th {\n",
       "        text-align: right;\n",
       "    }\n",
       "\n",
       "    .dataframe thead th {\n",
       "        text-align: left;\n",
       "    }\n",
       "\n",
       "    .dataframe tbody tr th {\n",
       "        vertical-align: top;\n",
       "    }\n",
       "</style>\n",
       "<table border=\"1\" class=\"dataframe\">\n",
       "  <thead>\n",
       "    <tr style=\"text-align: right;\">\n",
       "      <th></th>\n",
       "      <th>week</th>\n",
       "      <th>storeA</th>\n",
       "      <th>storeB</th>\n",
       "      <th>storeC</th>\n",
       "      <th>storeD</th>\n",
       "      <th>storeE</th>\n",
       "    </tr>\n",
       "  </thead>\n",
       "  <tbody>\n",
       "    <tr>\n",
       "      <th>180</th>\n",
       "      <td>2017-10-15</td>\n",
       "      <td>8556</td>\n",
       "      <td>11984</td>\n",
       "      <td>4792</td>\n",
       "      <td>5995</td>\n",
       "      <td>2508</td>\n",
       "    </tr>\n",
       "    <tr>\n",
       "      <th>181</th>\n",
       "      <td>2017-10-22</td>\n",
       "      <td>3751</td>\n",
       "      <td>697</td>\n",
       "      <td>3990</td>\n",
       "      <td>4236</td>\n",
       "      <td>360</td>\n",
       "    </tr>\n",
       "    <tr>\n",
       "      <th>182</th>\n",
       "      <td>2017-10-29</td>\n",
       "      <td>4997</td>\n",
       "      <td>9759</td>\n",
       "      <td>4290</td>\n",
       "      <td>4568</td>\n",
       "      <td>2393</td>\n",
       "    </tr>\n",
       "    <tr>\n",
       "      <th>183</th>\n",
       "      <td>2017-11-05</td>\n",
       "      <td>12785</td>\n",
       "      <td>1800</td>\n",
       "      <td>6163</td>\n",
       "      <td>5157</td>\n",
       "      <td>578</td>\n",
       "    </tr>\n",
       "    <tr>\n",
       "      <th>184</th>\n",
       "      <td>2017-11-12</td>\n",
       "      <td>137</td>\n",
       "      <td>12261</td>\n",
       "      <td>5455</td>\n",
       "      <td>7695</td>\n",
       "      <td>2599</td>\n",
       "    </tr>\n",
       "    <tr>\n",
       "      <th>185</th>\n",
       "      <td>2017-11-19</td>\n",
       "      <td>9960</td>\n",
       "      <td>8529</td>\n",
       "      <td>4501</td>\n",
       "      <td>7631</td>\n",
       "      <td>505</td>\n",
       "    </tr>\n",
       "    <tr>\n",
       "      <th>186</th>\n",
       "      <td>2017-11-26</td>\n",
       "      <td>6866</td>\n",
       "      <td>5011</td>\n",
       "      <td>5401</td>\n",
       "      <td>4736</td>\n",
       "      <td>3232</td>\n",
       "    </tr>\n",
       "    <tr>\n",
       "      <th>187</th>\n",
       "      <td>2017-12-03</td>\n",
       "      <td>5179</td>\n",
       "      <td>3850</td>\n",
       "      <td>6121</td>\n",
       "      <td>6778</td>\n",
       "      <td>113</td>\n",
       "    </tr>\n",
       "    <tr>\n",
       "      <th>188</th>\n",
       "      <td>2017-12-10</td>\n",
       "      <td>9348</td>\n",
       "      <td>5624</td>\n",
       "      <td>5446</td>\n",
       "      <td>5448</td>\n",
       "      <td>227</td>\n",
       "    </tr>\n",
       "    <tr>\n",
       "      <th>189</th>\n",
       "      <td>2017-12-17</td>\n",
       "      <td>5310</td>\n",
       "      <td>8647</td>\n",
       "      <td>5680</td>\n",
       "      <td>7049</td>\n",
       "      <td>3578</td>\n",
       "    </tr>\n",
       "    <tr>\n",
       "      <th>190</th>\n",
       "      <td>2017-12-24</td>\n",
       "      <td>8976</td>\n",
       "      <td>9503</td>\n",
       "      <td>6240</td>\n",
       "      <td>3882</td>\n",
       "      <td>2890</td>\n",
       "    </tr>\n",
       "    <tr>\n",
       "      <th>191</th>\n",
       "      <td>2017-12-31</td>\n",
       "      <td>11875</td>\n",
       "      <td>1527</td>\n",
       "      <td>6711</td>\n",
       "      <td>5265</td>\n",
       "      <td>1701</td>\n",
       "    </tr>\n",
       "    <tr>\n",
       "      <th>192</th>\n",
       "      <td>2018-01-07</td>\n",
       "      <td>8978</td>\n",
       "      <td>11312</td>\n",
       "      <td>4158</td>\n",
       "      <td>5019</td>\n",
       "      <td>3842</td>\n",
       "    </tr>\n",
       "    <tr>\n",
       "      <th>193</th>\n",
       "      <td>2018-01-14</td>\n",
       "      <td>6963</td>\n",
       "      <td>4014</td>\n",
       "      <td>4215</td>\n",
       "      <td>7153</td>\n",
       "      <td>3097</td>\n",
       "    </tr>\n",
       "    <tr>\n",
       "      <th>194</th>\n",
       "      <td>2018-01-21</td>\n",
       "      <td>5553</td>\n",
       "      <td>3971</td>\n",
       "      <td>3761</td>\n",
       "      <td>6255</td>\n",
       "      <td>3071</td>\n",
       "    </tr>\n",
       "    <tr>\n",
       "      <th>195</th>\n",
       "      <td>2018-01-28</td>\n",
       "      <td>282</td>\n",
       "      <td>6351</td>\n",
       "      <td>7759</td>\n",
       "      <td>5558</td>\n",
       "      <td>1028</td>\n",
       "    </tr>\n",
       "    <tr>\n",
       "      <th>196</th>\n",
       "      <td>2018-02-04</td>\n",
       "      <td>4853</td>\n",
       "      <td>6503</td>\n",
       "      <td>4187</td>\n",
       "      <td>5956</td>\n",
       "      <td>1458</td>\n",
       "    </tr>\n",
       "    <tr>\n",
       "      <th>197</th>\n",
       "      <td>2018-02-11</td>\n",
       "      <td>9202</td>\n",
       "      <td>3677</td>\n",
       "      <td>4540</td>\n",
       "      <td>6186</td>\n",
       "      <td>243</td>\n",
       "    </tr>\n",
       "    <tr>\n",
       "      <th>198</th>\n",
       "      <td>2018-02-18</td>\n",
       "      <td>3512</td>\n",
       "      <td>7511</td>\n",
       "      <td>4151</td>\n",
       "      <td>5596</td>\n",
       "      <td>3501</td>\n",
       "    </tr>\n",
       "    <tr>\n",
       "      <th>199</th>\n",
       "      <td>2018-02-25</td>\n",
       "      <td>7560</td>\n",
       "      <td>6904</td>\n",
       "      <td>3569</td>\n",
       "      <td>5045</td>\n",
       "      <td>2585</td>\n",
       "    </tr>\n",
       "  </tbody>\n",
       "</table>\n",
       "</div>"
      ],
      "text/plain": [
       "           week  storeA  storeB  storeC  storeD  storeE\n",
       "180  2017-10-15    8556   11984    4792    5995    2508\n",
       "181  2017-10-22    3751     697    3990    4236     360\n",
       "182  2017-10-29    4997    9759    4290    4568    2393\n",
       "183  2017-11-05   12785    1800    6163    5157     578\n",
       "184  2017-11-12     137   12261    5455    7695    2599\n",
       "185  2017-11-19    9960    8529    4501    7631     505\n",
       "186  2017-11-26    6866    5011    5401    4736    3232\n",
       "187  2017-12-03    5179    3850    6121    6778     113\n",
       "188  2017-12-10    9348    5624    5446    5448     227\n",
       "189  2017-12-17    5310    8647    5680    7049    3578\n",
       "190  2017-12-24    8976    9503    6240    3882    2890\n",
       "191  2017-12-31   11875    1527    6711    5265    1701\n",
       "192  2018-01-07    8978   11312    4158    5019    3842\n",
       "193  2018-01-14    6963    4014    4215    7153    3097\n",
       "194  2018-01-21    5553    3971    3761    6255    3071\n",
       "195  2018-01-28     282    6351    7759    5558    1028\n",
       "196  2018-02-04    4853    6503    4187    5956    1458\n",
       "197  2018-02-11    9202    3677    4540    6186     243\n",
       "198  2018-02-18    3512    7511    4151    5596    3501\n",
       "199  2018-02-25    7560    6904    3569    5045    2585"
      ]
     },
     "execution_count": 3,
     "metadata": {},
     "output_type": "execute_result"
    }
   ],
   "source": [
    "df.tail(20)"
   ]
  },
  {
   "cell_type": "code",
   "execution_count": 7,
   "metadata": {},
   "outputs": [
    {
     "data": {
      "text/plain": [
       "storeA    20274\n",
       "storeB    18092\n",
       "storeC    12260\n",
       "storeD    16827\n",
       "storeE     6329\n",
       "dtype: int64"
      ]
     },
     "execution_count": 7,
     "metadata": {},
     "output_type": "execute_result"
    }
   ],
   "source": [
    "# total sales for the last month\n",
    "df.iloc[196:, 1:].sum()"
   ]
  },
  {
   "cell_type": "code",
   "execution_count": 8,
   "metadata": {},
   "outputs": [
    {
     "data": {
      "text/plain": [
       "storeA    5834.371859\n",
       "storeB    6741.010050\n",
       "storeC    4941.788945\n",
       "storeD    5425.160804\n",
       "storeE    2586.969849\n",
       "dtype: float64"
      ]
     },
     "execution_count": 8,
     "metadata": {},
     "output_type": "execute_result"
    }
   ],
   "source": [
    "# average sales\n",
    "df.mean()"
   ]
  },
  {
   "cell_type": "code",
   "execution_count": 9,
   "metadata": {},
   "outputs": [
    {
     "data": {
      "text/html": [
       "<div>\n",
       "<style scoped>\n",
       "    .dataframe tbody tr th:only-of-type {\n",
       "        vertical-align: middle;\n",
       "    }\n",
       "\n",
       "    .dataframe tbody tr th {\n",
       "        vertical-align: top;\n",
       "    }\n",
       "\n",
       "    .dataframe thead th {\n",
       "        text-align: right;\n",
       "    }\n",
       "</style>\n",
       "<table border=\"1\" class=\"dataframe\">\n",
       "  <thead>\n",
       "    <tr style=\"text-align: right;\">\n",
       "      <th></th>\n",
       "      <th>week</th>\n",
       "      <th>storeA</th>\n",
       "      <th>storeB</th>\n",
       "      <th>storeC</th>\n",
       "      <th>storeD</th>\n",
       "      <th>storeE</th>\n",
       "    </tr>\n",
       "  </thead>\n",
       "  <tbody>\n",
       "    <tr>\n",
       "      <td>97</td>\n",
       "      <td>2016-03-13</td>\n",
       "      <td>2054</td>\n",
       "      <td>1390</td>\n",
       "      <td>5112</td>\n",
       "      <td>5513</td>\n",
       "      <td>2536</td>\n",
       "    </tr>\n",
       "  </tbody>\n",
       "</table>\n",
       "</div>"
      ],
      "text/plain": [
       "          week  storeA  storeB  storeC  storeD  storeE\n",
       "97  2016-03-13    2054    1390    5112    5513    2536"
      ]
     },
     "execution_count": 9,
     "metadata": {},
     "output_type": "execute_result"
    }
   ],
   "source": [
    "# sales on march 13, 2016\n",
    "df[df['week'] == '2016-03-13']"
   ]
  },
  {
   "cell_type": "code",
   "execution_count": 12,
   "metadata": {},
   "outputs": [
    {
     "data": {
      "text/html": [
       "<div>\n",
       "<style scoped>\n",
       "    .dataframe tbody tr th:only-of-type {\n",
       "        vertical-align: middle;\n",
       "    }\n",
       "\n",
       "    .dataframe tbody tr th {\n",
       "        vertical-align: top;\n",
       "    }\n",
       "\n",
       "    .dataframe thead th {\n",
       "        text-align: right;\n",
       "    }\n",
       "</style>\n",
       "<table border=\"1\" class=\"dataframe\">\n",
       "  <thead>\n",
       "    <tr style=\"text-align: right;\">\n",
       "      <th></th>\n",
       "      <th>week</th>\n",
       "      <th>storeA</th>\n",
       "      <th>storeB</th>\n",
       "      <th>storeC</th>\n",
       "      <th>storeD</th>\n",
       "      <th>storeE</th>\n",
       "    </tr>\n",
       "  </thead>\n",
       "  <tbody>\n",
       "    <tr>\n",
       "      <td>9</td>\n",
       "      <td>2014-07-06</td>\n",
       "      <td>8567</td>\n",
       "      <td>3228</td>\n",
       "      <td>927</td>\n",
       "      <td>3277</td>\n",
       "      <td>168</td>\n",
       "    </tr>\n",
       "  </tbody>\n",
       "</table>\n",
       "</div>"
      ],
      "text/plain": [
       "         week  storeA  storeB  storeC  storeD  storeE\n",
       "9  2014-07-06    8567    3228     927    3277     168"
      ]
     },
     "execution_count": 12,
     "metadata": {},
     "output_type": "execute_result"
    }
   ],
   "source": [
    "# worst week for store C\n",
    "df[df['storeC'] == df['storeC'].min()]"
   ]
  },
  {
   "cell_type": "code",
   "execution_count": 14,
   "metadata": {},
   "outputs": [
    {
     "data": {
      "text/plain": [
       "927"
      ]
     },
     "execution_count": 14,
     "metadata": {},
     "output_type": "execute_result"
    }
   ],
   "source": [
    "df.loc[:, 'storeC'].min()"
   ]
  },
  {
   "cell_type": "code",
   "execution_count": 8,
   "metadata": {},
   "outputs": [
    {
     "data": {
      "text/plain": [
       "storeA    87591\n",
       "storeB    79394\n",
       "storeC    66538\n",
       "storeD    75190\n",
       "storeE    27334\n",
       "dtype: int64"
      ]
     },
     "execution_count": 8,
     "metadata": {},
     "output_type": "execute_result"
    }
   ],
   "source": [
    "# total sales during most recent 3 month period\n",
    "last_three_months = df[df['week'] >= '2017-12-01']\n",
    "last_three_months.iloc[:, 1:].sum()  # exclude sum of week column"
   ]
  },
  {
   "cell_type": "code",
   "execution_count": null,
   "metadata": {
    "collapsed": true
   },
   "outputs": [],
   "source": []
  }
 ],
 "metadata": {
  "kernelspec": {
   "display_name": "Python 3",
   "language": "python",
   "name": "python3"
  },
  "language_info": {
   "codemirror_mode": {
    "name": "ipython",
    "version": 3
   },
   "file_extension": ".py",
   "mimetype": "text/x-python",
   "name": "python",
   "nbconvert_exporter": "python",
   "pygments_lexer": "ipython3",
   "version": "3.7.3"
  }
 },
 "nbformat": 4,
 "nbformat_minor": 2
}
